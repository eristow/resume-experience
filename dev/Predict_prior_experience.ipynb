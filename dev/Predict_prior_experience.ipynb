{
  "cells": [
    {
      "cell_type": "markdown",
      "metadata": {},
      "source": [
        "##### Import Modules"
      ]
    },
    {
      "cell_type": "code",
      "execution_count": 1,
      "metadata": {
        "colab": {
          "base_uri": "https://localhost:8080/"
        },
        "id": "OwHKEOoSK-W7",
        "outputId": "49989fab-92fa-47be-df84-58f1737575d4"
      },
      "outputs": [],
      "source": [
        "from langchain.prompts import ChatPromptTemplate, PromptTemplate\n",
        "from langchain_community.chat_models import ChatOllama\n",
        "from langchain.retrievers import BM25Retriever\n",
        "from tools import CustomEmbeddings, process_file, extract_text_from_file\n",
        "\n",
        "import os\n",
        "import torch\n",
        "from transformers import AutoModelForCausalLM, AutoTokenizer, BitsAndBytesConfig\n",
        "from langchain.embeddings.base import Embeddings\n",
        "from PyPDF2 import PdfReader\n",
        "import docx\n",
        "from langchain.document_loaders import TextLoader\n",
        "from langchain.text_splitter import RecursiveCharacterTextSplitter\n",
        "from langchain.vectorstores import Chroma\n",
        "\n",
        "from langchain.prompts import ChatPromptTemplate\n",
        "\n",
        "import glob"
      ]
    },
    {
      "cell_type": "code",
      "execution_count": 2,
      "metadata": {},
      "outputs": [
        {
          "name": "stdout",
          "output_type": "stream",
          "text": [
            "['38_Hannah Wolfe Resume.pdf', '38_Marketing Sales Intern_Job Description.pdf', '52_Garrett Cassells Resume.pdf', '52_Marketing Manager_Job Description.pdf']\n"
          ]
        }
      ],
      "source": [
        "files = glob.glob(\"*.pdf*\")\n",
        "print(files)"
      ]
    },
    {
      "cell_type": "code",
      "execution_count": 3,
      "metadata": {},
      "outputs": [],
      "source": [
        "job_file = files[3]\n",
        "resume_file = files[0]"
      ]
    },
    {
      "cell_type": "code",
      "execution_count": 4,
      "metadata": {},
      "outputs": [
        {
          "data": {
            "text/plain": [
              "'52_Marketing Manager_Job Description.pdf'"
            ]
          },
          "execution_count": 4,
          "metadata": {},
          "output_type": "execute_result"
        }
      ],
      "source": [
        "job_file"
      ]
    },
    {
      "cell_type": "code",
      "execution_count": 5,
      "metadata": {},
      "outputs": [],
      "source": [
        "# import subprocess\n",
        "# subprocess.Popen([job_file],shell=True)"
      ]
    },
    {
      "cell_type": "code",
      "execution_count": null,
      "metadata": {},
      "outputs": [],
      "source": [
        "def pdfimage_text_extract_from_file(uploaded_file):\n",
        "    ### my install tesseract\n",
        "    # pip install pytesseract\n",
        "    # sudo apt-get install tesseract-ocr\n",
        "    import pytesseract\n",
        "    from pdf2image import convert_from_path\n",
        "    \n",
        "    pages = convert_from_path(uploaded_file, 500)\n",
        "\n",
        "    for pageNum,imgBlob in enumerate(pages):\n",
        "        text = pytesseract.image_to_string(imgBlob,lang='eng')\n",
        "            \n",
        "    return text"
      ]
    },
    {
      "cell_type": "code",
      "execution_count": 11,
      "metadata": {},
      "outputs": [],
      "source": [
        "def extract_text_from_file(uploaded_file):\n",
        "    file_extension = uploaded_file.split(\".\")[-1].lower()\n",
        "    text = \"\"\n",
        "\n",
        "    if \"pdf\" in file_extension:\n",
        "        reader = PdfReader(uploaded_file)\n",
        "        for page in reader.pages:\n",
        "            text += page.extract_text() + \"\\n\"\n",
        "        if len(text) <= 1:\n",
        "            text = pdfimage_text_extract_from_file(uploaded_file)\n",
        "            \n",
        "    elif file_extension in [\"doc\", \"docx\"]:\n",
        "        doc = docx.Document(uploaded_file)\n",
        "        for paragraph in doc.paragraphs:\n",
        "            text += paragraph.text + \"\\n\"\n",
        "\n",
        "    return text"
      ]
    },
    {
      "cell_type": "code",
      "execution_count": 9,
      "metadata": {},
      "outputs": [],
      "source": []
    },
    {
      "cell_type": "code",
      "execution_count": 12,
      "metadata": {},
      "outputs": [],
      "source": [
        "# text"
      ]
    },
    {
      "cell_type": "code",
      "execution_count": 7,
      "metadata": {},
      "outputs": [],
      "source": [
        "### OPTION 2\n",
        "\n",
        "\n",
        "\n",
        "\n",
        "\n",
        "\n"
      ]
    },
    {
      "cell_type": "code",
      "execution_count": 13,
      "metadata": {
        "colab": {
          "base_uri": "https://localhost:8080/",
          "height": 211
        },
        "id": "GGfUjiiFLHYX",
        "outputId": "6945da54-a41b-49b4-cb67-8ca5e542131d"
      },
      "outputs": [],
      "source": [
        "### extract job ad text\n",
        "job_ad_text = extract_text_from_file(job_file)"
      ]
    },
    {
      "cell_type": "code",
      "execution_count": 16,
      "metadata": {},
      "outputs": [
        {
          "data": {
            "text/plain": [
              "16"
            ]
          },
          "execution_count": 16,
          "metadata": {},
          "output_type": "execute_result"
        }
      ],
      "source": []
    },
    {
      "cell_type": "code",
      "execution_count": 11,
      "metadata": {},
      "outputs": [],
      "source": [
        "### extract resume text\n",
        "resume_text = extract_text_from_file(resume_file)"
      ]
    },
    {
      "cell_type": "code",
      "execution_count": 13,
      "metadata": {
        "colab": {
          "base_uri": "https://localhost:8080/",
          "height": 297
        },
        "id": "VHEvgCrGLKbJ",
        "outputId": "c6e56d04-bfca-4711-e080-d94c0ac5ba71"
      },
      "outputs": [
        {
          "data": {
            "text/plain": [
              "'HANNAHWOLFE22006 Philip Drive | Leonardtown, MD 20650 | (301)904-2497 | hwolfe@muhlenberg.edu\\nEDUCATION\\nLeonar dtown Hig h School, Leonar dtown, MDGraduat edMay 2018High School Diploma\\nMuhlenber g College, Allent own, P AExpect ed Gr aduationMay 2022Bachelor of S cienc e, Major in Business A dministr ation \\n●Concentr ation in Mar ketingBachelor of Arts, Media and C ommunications\\n●Current C umulati ve GP A: 3.415\\nSKILLS\\nComput er Skills: \\n●Experience using man y Adobe pr ograms such as Phot oshop,InDesign, Illustr ator \\n●Ability t o dr aft fl yers, post ers, logos, T -shirt designs,cover art , etc. \\n●Worked with HTML pr ograms such as R studio f or statisticalanal ysis \\n●Proficient using Micr osoft Ex cel\\nWORKEXPERIENCE\\nBreton Ba y Country Club, Leonar dtown, MDJune 2017 – A ugust 2018 (seasonal)Lifeguar d \\n●\\n  CPR Certified thr ough American R ed Cr oss \\n●\\n  In char ge of the saf ety and health of patr ons atBreton Ba y pool, r equir ed team work with others aswellas ability t o tak e char ge in an emer gency \\n●\\n  Help with selling of f ood and drink w hen not inthe guar d stand\\nRefer ence\\n \\n: Ben P eterson (Gener al Manager of Br etonBay Pool)- Cell: (240) 298-5827\\nRuddy Duck Br ewery & Grill, Do well, MDMay 2019 – A ugust 2019Restaur ant Host ess \\n●\\n  Greeted cust omers and helped t o seat them, managedcash r egist er up fr ont and all t o-go or ders \\n●\\n  Helped bus tables, clean ar ound r estaur ant, andhelped serv e food w hen r estaur ant w as bus y \\n●\\n  Requir ed skills in cust omer service r ealm, pr ofessionalism,and ability t o multitask\\nRefer ence:\\n \\nNiccole Sil ver (Co-o wner of r estaur ant)-Cell: (240) 274-0185\\nAir Combat Eff ectiveness Consulting Gr oup, LL C, Le xingt onPark, MDJune 2020- Pr esentAdministr ative Assistant \\n●Kept tr ack of in ventory f or the A CE office in Le xingt onPark \\n●Took messages f or and dir ected phone calls t o relevantstaff members \\n●Processed and dir ected mail and incoming pack agesor deli veries\\n●Ensur ed that har d copies and digital copies of important financial documents w ere pr oper ly filedand or ganized \\n●Used A dobe Capti vate to con vert P owerPoint tr ainingmodules t o int eractive training modules\\nRefer ence:Thomas Ganse (Compan y Pr esident)- W orkemail:thomas.g anse@acegr oupllc.comCell: (410) 326-5117\\nCAMPUSINVOLVEMENT\\n●Varsity Lacr osse, Muhlenber g College, NCAA Di visionIII \\n●Member of Alpha Phi Omeg a Service F raternity \\n○Executi ve Boar d Position- Vice Pr esident of F ellowship \\n●Member of DCF (DiscipleMak ers Christian F ellowship)Club \\n○Position on Leadership T eam \\n●Freelance gr aphic designer on campus \\n○Has made post ers and logos f or various clubs, students,perf ormers, and Muhlenber gCollege A dmissions\\nAWARDS& HONORS\\n●\\nEarned Gr aphic Design Certification fr om \\n \\nDr. JamesA. Forrest Car eer & T echnology Cent er in 2017 \\n●Dean ’s List Spring Semest er 2020 at Muhlenber g College \\n●Dean ’s List F all Semest er 2020 at Muhlenber g College\\n'"
            ]
          },
          "execution_count": 13,
          "metadata": {},
          "output_type": "execute_result"
        }
      ],
      "source": [
        "resume_text"
      ]
    },
    {
      "cell_type": "code",
      "execution_count": null,
      "metadata": {},
      "outputs": [],
      "source": [
        "analyze_inputs"
      ]
    },
    {
      "cell_type": "code",
      "execution_count": 5,
      "metadata": {
        "id": "IsDnlE9RLOVI"
      },
      "outputs": [],
      "source": [
        "\n",
        "\n",
        "result = analyze_inputs(uploaded_files, job_ad_text, resume_text)\n"
      ]
    },
    {
      "cell_type": "code",
      "execution_count": 8,
      "metadata": {
        "id": "fiz2mRy_LTvh"
      },
      "outputs": [
        {
          "name": "stderr",
          "output_type": "stream",
          "text": [
            "2024-06-28 16:28:37.762 \n",
            "  \u001b[33m\u001b[1mWarning:\u001b[0m to view this Streamlit app on a browser, run it with the following\n",
            "  command:\n",
            "\n",
            "    streamlit run C:\\Users\\teres\\AppData\\Local\\Packages\\PythonSoftwareFoundation.Python.3.11_qbz5n2kfra8p0\\LocalCache\\local-packages\\Python311\\site-packages\\ipykernel_launcher.py [ARGUMENTS]\n",
            "2024-06-28 16:28:37.764 Session state does not function when running a script without `streamlit run`\n"
          ]
        }
      ],
      "source": [
        "# https://stackoverflow.com/questions/45480280/convert-scanned-pdf-to-text-python\n"
      ]
    }
  ],
  "metadata": {
    "colab": {
      "provenance": []
    },
    "kernelspec": {
      "display_name": "Python 3",
      "name": "python3"
    },
    "language_info": {
      "codemirror_mode": {
        "name": "ipython",
        "version": 3
      },
      "file_extension": ".py",
      "mimetype": "text/x-python",
      "name": "python",
      "nbconvert_exporter": "python",
      "pygments_lexer": "ipython3",
      "version": "3.12.1"
    }
  },
  "nbformat": 4,
  "nbformat_minor": 0
}
