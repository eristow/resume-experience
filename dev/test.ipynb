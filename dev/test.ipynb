{
 "cells": [
  {
   "cell_type": "code",
   "execution_count": 7,
   "metadata": {},
   "outputs": [
    {
     "name": "stderr",
     "output_type": "stream",
     "text": [
      "`low_cpu_mem_usage` was None, now set to True since model is quantized.\n"
     ]
    },
    {
     "name": "stdout",
     "output_type": "stream",
     "text": [
      "The embeddings are not the same.\n"
     ]
    }
   ],
   "source": [
    "import torch\n",
    "from transformers import pipeline, AutoTokenizer, AutoModel\n",
    "from transformers import AutoModelForCausalLM, AutoTokenizer, BitsAndBytesConfig\n",
    "\n",
    "import numpy as np\n",
    "\n",
    "quant_config = BitsAndBytesConfig(\n",
    "    load_in_4bit=True,\n",
    "    bnb_4bit_quant_type=\"nf4\",\n",
    "    bnb_4bit_compute_dtype=torch.bfloat16,\n",
    "    bnb_4bit_use_double_quant=True,\n",
    ")\n",
    "\n",
    "PRETRAIN_MODEL = '/home/james/models/mistralai/Mistral-7B-Instruct-v0.3'\n",
    "tokenizer = AutoTokenizer.from_pretrained(PRETRAIN_MODEL, quantization_config=quant_config)\n",
    "model = AutoModelForCausalLM.from_pretrained(PRETRAIN_MODEL, quantization_config=quant_config)\n",
    "\n",
    "def generate_embedding(document):\n",
    "    inputs = tokenizer(document, return_tensors='pt')\n",
    "    # print(\"Tokenized inputs:\", inputs)\n",
    "    embeddings = []\n",
    "    with torch.no_grad():\n",
    "        outputs = model(**inputs)\n",
    "        embeddings.append(outputs.logits.mean(dim=1).cpu().numpy())\n",
    "\n",
    "    # embedding = outputs.last_hidden_state[0, 0, :].numpy()\n",
    "    # print(\"Generated embedding:\", embedding)\n",
    "    return embeddings\n",
    "\n",
    "text1 = \"this is a test\"\n",
    "text2 = \"this is another test\"\n",
    "text3 = \"there are other tests\"\n",
    "\n",
    "embedding1 = generate_embedding(text1)\n",
    "embedding2 = generate_embedding(text2)\n",
    "embedding3 = generate_embedding(text3)\n",
    "\n",
    "are_equal = np.array_equal(embedding1, embedding2) and np.array_equal(embedding2, embedding3)\n",
    "if are_equal:\n",
    "    print(\"The embeddings are the same.\")\n",
    "else:\n",
    "    print(\"The embeddings are not the same.\")"
   ]
  },
  {
   "cell_type": "code",
   "execution_count": 6,
   "metadata": {},
   "outputs": [
    {
     "data": {
      "text/plain": [
       "[array([[-7.834375 , -7.7234373,  0.4879486, ..., -6.6046877, -5.966797 ,\n",
       "         -4.4867187]], dtype=float32)]"
      ]
     },
     "execution_count": 6,
     "metadata": {},
     "output_type": "execute_result"
    }
   ],
   "source": [
    "embedding1"
   ]
  },
  {
   "cell_type": "code",
   "execution_count": null,
   "metadata": {},
   "outputs": [],
   "source": []
  }
 ],
 "metadata": {
  "kernelspec": {
   "display_name": "base",
   "language": "python",
   "name": "python3"
  },
  "language_info": {
   "codemirror_mode": {
    "name": "ipython",
    "version": 3
   },
   "file_extension": ".py",
   "mimetype": "text/x-python",
   "name": "python",
   "nbconvert_exporter": "python",
   "pygments_lexer": "ipython3",
   "version": "3.12.1"
  }
 },
 "nbformat": 4,
 "nbformat_minor": 2
}
